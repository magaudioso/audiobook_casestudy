{
 "cells": [
  {
   "cell_type": "markdown",
   "metadata": {},
   "source": [
    "# Audiobook customer analysis\n",
    "##### Given: a dataset (.csv) of every customer who has every bought from the audiobook marketplace\n",
    "##### Goal: make a ML algorithim to make a model that will predict if a customer will buy again from the marketplace\n",
    "##### Simpler: figure out which variables that we know about the customer, has the most weights in determing if they buy again\n",
    "##### --2 years worth of engagement to train, 6 months to test\n",
    "##### --Supervised learning== meaning we need targets\n",
    "##### --targets = a boolean either they converted to audiobook or did not buy a book\n",
    "##### --Classification problem with either they will buy or will not buy (0, 1)\n"
   ]
  },
  {
   "cell_type": "markdown",
   "metadata": {},
   "source": [
    "### Action plan\n",
    "##### 1. Preprocess data\n",
    "##### 1a.Balance the dataset (shuffle it as well)\n",
    "##### 1b. Divide the dataset into training, validation, test\n",
    "##### 1c. Save the data into tensor for tf, i.e. .npz\n",
    "##### 2. CREATE ML algo"
   ]
  },
  {
   "cell_type": "markdown",
   "metadata": {},
   "source": [
    "#### Import relevant libraries"
   ]
  },
  {
   "cell_type": "code",
   "execution_count": 13,
   "metadata": {},
   "outputs": [],
   "source": [
    "import numpy as np\n",
    "#use preprocessing object from sklearn, it will make process go much faster\n",
    "from sklearn import preprocessing"
   ]
  },
  {
   "cell_type": "markdown",
   "metadata": {},
   "source": [
    "#### Load the data"
   ]
  },
  {
   "cell_type": "code",
   "execution_count": 3,
   "metadata": {},
   "outputs": [],
   "source": [
    "#load the data using np framework\n",
    "raw_csv_data = np.loadtxt('D:/data_science/Neural_Nets/final projects/Audiobooks_data.csv',\n",
    "                          delimiter = ',')\n",
    "#dataset has bogus column 0 and column -1 is the targets, get rid of them both for inputs\n",
    "unscaled_inputs_all = raw_csv_data[:,1:-1]\n",
    "#assign targets to corresponding column\n",
    "targets_all = raw_csv_data[:,-1]"
   ]
  },
  {
   "cell_type": "markdown",
   "metadata": {},
   "source": [
    "#### Balance the data"
   ]
  },
  {
   "cell_type": "code",
   "execution_count": 4,
   "metadata": {},
   "outputs": [],
   "source": [
    "#Count how many targets are 'True', meaning they did convert to buy more\n",
    "#this method works because the sum of all the targets = sum of all the number 1s\n",
    "#this is true becuase our targets are only 0s and 1s\n",
    "num_one_targets = int(np.sum(targets_all))\n",
    "\n",
    "#initialize variables for later loop\n",
    "    #counter for how many customers did not convert ('False' i.e. 0s)\n",
    "zero_targets_counter = 0\n",
    "    #keep track of which input/target pairs we need to remove to create balanced dataset\n",
    "indices_to_remove = []\n",
    "\n",
    "#for loop: 1. Count how many targets are 0s(no converstion)\n",
    "#2. once there are as many 0s as there are 1s, mark where the excess are located\n",
    "for i in range(targets_all.shape[0]):\n",
    "    if targets_all[i] == 0:\n",
    "        zero_targets_counter += 1 \n",
    "        if zero_targets_counter > num_one_targets:\n",
    "            indices_to_remove.append(i)\n",
    "    \n",
    "#assign variable to the balanced(equal prior) list of inputs\n",
    "unscaled_inputs_equal_priors = np.delete(unscaled_inputs_all, indices_to_remove, axis = 0)\n",
    "#assign variable to the balanced(equal prior) to the list of targets\n",
    "targets_equal_priors = np.delete(targets_all, indices_to_remove, axis = 0)"
   ]
  },
  {
   "cell_type": "markdown",
   "metadata": {},
   "source": [
    "#### Standardize the inputs"
   ]
  },
  {
   "cell_type": "code",
   "execution_count": 14,
   "metadata": {},
   "outputs": [],
   "source": [
    "#use sklearn object 'preprocessing' to scale each variable individually(each columns w/in itself)\n",
    "#.scale() method\n",
    "scaled_inputs = preprocessing.scale(unscaled_inputs_equal_priors)"
   ]
  },
  {
   "cell_type": "markdown",
   "metadata": {},
   "source": [
    "#### Shuffle the inputs/targets\n",
    "##### To avoid ordered time-series correlations"
   ]
  },
  {
   "cell_type": "code",
   "execution_count": 15,
   "metadata": {},
   "outputs": [],
   "source": [
    "#Shuffle the data\n",
    "#do this by the index, such that a target/input row moves together, and they dont move independently\n",
    "shuffled_indices = np.arange(scaled_inputs.shape[0])\n",
    "#actually shuffle based on index\n",
    "np.random.shuffle(shuffled_indices)\n",
    "\n",
    "#assign new variables to the shuffled, balanced, and scaled inputs/targets\n",
    "shuffled_inputs = scaled_inputs[shuffled_indices]\n",
    "shuffled_targets = targets_equal_priors[shuffled_indices]"
   ]
  },
  {
   "cell_type": "markdown",
   "metadata": {},
   "source": [
    "#### Split into test/validate/train"
   ]
  },
  {
   "cell_type": "code",
   "execution_count": 16,
   "metadata": {},
   "outputs": [
    {
     "name": "stdout",
     "output_type": "stream",
     "text": [
      "1790.0 3579 0.5001397038278849\n",
      "227.0 447 0.5078299776286354\n",
      "220.0 447 0.49217002237136465\n"
     ]
    }
   ],
   "source": [
    "#count the total # of samples\n",
    "samples_count = shuffled_inputs.shape[0]\n",
    "\n",
    "#make the splits of 80/10/10 but parameterize it for easy editing\n",
    "train_samples_count = int(0.8*samples_count)\n",
    "validation_samples_count = int(0.1*samples_count)\n",
    "test_samples_count = int(0.1*samples_count)\n",
    "#or\n",
    "#test_samples_count = samples_count -train_samples_count - validation_samples_count\n",
    "\n",
    "#assign variables to the train inputs/targets; do this using train_samples_count so that it is paramterized\n",
    "train_inputs = shuffled_inputs[:train_samples_count]\n",
    "train_targets = shuffled_targets[:train_samples_count]\n",
    "\n",
    "#do the same thing with validation inputs/targets --> this is easy bc we paramaterized\n",
    "validation_inputs = shuffled_inputs[train_samples_count:\n",
    "                                    train_samples_count + validation_samples_count]\n",
    "validation_targets = shuffled_targets[train_samples_count:\n",
    "                                     train_samples_count + validation_samples_count]\n",
    "\n",
    "#do the same thing with validation inputs/targets --> this is easy bc we paramaterized\n",
    "test_inputs = shuffled_inputs[train_samples_count + validation_samples_count:]\n",
    "test_targets = shuffled_targets[train_samples_count + validation_samples_count:]\n",
    "\n",
    "#bc we balanced our data w/ np.random.shuffle, each train/validate/test target should be balanced\n",
    "#lets check thos by printing the total # of ones per the total number of samples, broken down by \n",
    "#train/validate/test\n",
    "print(np.sum(train_targets), train_samples_count, np.sum(train_targets)/train_samples_count)\n",
    "print(np.sum(validation_targets), validation_samples_count, np.sum(validation_targets) \n",
    "      / validation_samples_count)\n",
    "print(np.sum(test_targets), test_samples_count, np.sum(test_targets)/ test_samples_count)\n",
    "                                    \n",
    "\n"
   ]
  },
  {
   "cell_type": "markdown",
   "metadata": {},
   "source": [
    "#### Make the datasets into tensors (combine inputs/targets)"
   ]
  },
  {
   "cell_type": "code",
   "execution_count": 18,
   "metadata": {},
   "outputs": [],
   "source": [
    "np.savez('Audiobooks_data_train', inputs=train_inputs, targets=train_targets)\n",
    "np.savez('Audiobooks_data_validation', inputs=validation_inputs, targets=validation_targets)\n",
    "np.savez('Audiobooks_data_test', inputs=test_inputs, targets= test_targets)"
   ]
  },
  {
   "cell_type": "code",
   "execution_count": null,
   "metadata": {},
   "outputs": [],
   "source": []
  }
 ],
 "metadata": {
  "kernelspec": {
   "display_name": "Python [conda env:python3.8_TF2.0]",
   "language": "python",
   "name": "conda-env-python3.8_TF2.0-py"
  },
  "language_info": {
   "codemirror_mode": {
    "name": "ipython",
    "version": 3
   },
   "file_extension": ".py",
   "mimetype": "text/x-python",
   "name": "python",
   "nbconvert_exporter": "python",
   "pygments_lexer": "ipython3",
   "version": "3.8.5"
  }
 },
 "nbformat": 4,
 "nbformat_minor": 4
}
